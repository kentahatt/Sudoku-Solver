{
 "cells": [
  {
   "cell_type": "code",
   "execution_count": 2,
   "id": "c5b1baf2-d241-4fdf-b8c0-3ea127ab5e2a",
   "metadata": {},
   "outputs": [
    {
     "data": {
      "text/html": [
       "<div>\n",
       "<style scoped>\n",
       "    .dataframe tbody tr th:only-of-type {\n",
       "        vertical-align: middle;\n",
       "    }\n",
       "\n",
       "    .dataframe tbody tr th {\n",
       "        vertical-align: top;\n",
       "    }\n",
       "\n",
       "    .dataframe thead th {\n",
       "        text-align: right;\n",
       "    }\n",
       "</style>\n",
       "<table border=\"1\" class=\"dataframe\">\n",
       "  <thead>\n",
       "    <tr style=\"text-align: right;\">\n",
       "      <th></th>\n",
       "      <th>quizzes</th>\n",
       "      <th>solutions</th>\n",
       "    </tr>\n",
       "  </thead>\n",
       "  <tbody>\n",
       "    <tr>\n",
       "      <th>0</th>\n",
       "      <td>0700000430400096108006349000940520003584600200...</td>\n",
       "      <td>6795182435437296188216349577943521863584617292...</td>\n",
       "    </tr>\n",
       "    <tr>\n",
       "      <th>1</th>\n",
       "      <td>3010865040465210705000000014008000020803479000...</td>\n",
       "      <td>3719865248465213795924738614638197522853479167...</td>\n",
       "    </tr>\n",
       "    <tr>\n",
       "      <th>2</th>\n",
       "      <td>0483015603600080909106700030200009355090102006...</td>\n",
       "      <td>7483915623652487919126754834217869355894132766...</td>\n",
       "    </tr>\n",
       "    <tr>\n",
       "      <th>3</th>\n",
       "      <td>0083170000042051090000400703271609049014500000...</td>\n",
       "      <td>2983176457642851391539462783271689549814537266...</td>\n",
       "    </tr>\n",
       "    <tr>\n",
       "      <th>4</th>\n",
       "      <td>0408906300001368208007405190004670524500207002...</td>\n",
       "      <td>1428956379751368248367425193984671524513287962...</td>\n",
       "    </tr>\n",
       "  </tbody>\n",
       "</table>\n",
       "</div>"
      ],
      "text/plain": [
       "                                             quizzes  \\\n",
       "0  0700000430400096108006349000940520003584600200...   \n",
       "1  3010865040465210705000000014008000020803479000...   \n",
       "2  0483015603600080909106700030200009355090102006...   \n",
       "3  0083170000042051090000400703271609049014500000...   \n",
       "4  0408906300001368208007405190004670524500207002...   \n",
       "\n",
       "                                           solutions  \n",
       "0  6795182435437296188216349577943521863584617292...  \n",
       "1  3719865248465213795924738614638197522853479167...  \n",
       "2  7483915623652487919126754834217869355894132766...  \n",
       "3  2983176457642851391539462783271689549814537266...  \n",
       "4  1428956379751368248367425193984671524513287962...  "
      ]
     },
     "execution_count": 2,
     "metadata": {},
     "output_type": "execute_result"
    }
   ],
   "source": [
    "import pandas as pd\n",
    "import numpy as np\n",
    "\n",
    "path = 'sudoku.csv'\n",
    "\n",
    "df = pd.read_csv(path)\n",
    "try:\n",
    "    df = pd.DataFrame({\"quizzes\":df[\"puzzle\"],\"solutions\":df[\"solution\"]})\n",
    "except:\n",
    "    pass\n",
    "df.head()"
   ]
  },
  {
   "cell_type": "code",
   "execution_count": 12,
   "id": "58a2fca0-a45c-4add-b7c7-39a5be9d1201",
   "metadata": {},
   "outputs": [],
   "source": [
    "# Convert to 9x9 matrix\n",
    "def sudoku_board(quiz_string):\n",
    "    return [list(map(int, quiz_string[i:i+9])) for i in range(0, len(quiz_string), 9)]"
   ]
  },
  {
   "cell_type": "code",
   "execution_count": 13,
   "id": "ece3c0fb-13b1-4bb5-9dbc-d15862024ece",
   "metadata": {},
   "outputs": [],
   "source": [
    "def print_board(board): \n",
    "    for row in board: \n",
    "        print(\" \".join(str(cell) for cell in row)) \n",
    "    print(\"\\n\")"
   ]
  },
  {
   "cell_type": "code",
   "execution_count": 14,
   "id": "e68a69a7-792a-4148-bc9d-deda4c2a8d1e",
   "metadata": {},
   "outputs": [],
   "source": [
    "# Checks if the move is valid\n",
    "def is_valid(board, row, col, num):\n",
    "\n",
    "    # Checking row and column for duplicate num\n",
    "    for i in range(9):\n",
    "        if board[row][i] == num or board[i][col] == num:\n",
    "            return False\n",
    "\n",
    "    # Check the 3x3 grid\n",
    "    start_row, start_col = 3 * (row // 3), 3 * (col // 3)\n",
    "\n",
    "    for i in range(start_row, start_row+3):\n",
    "        for j in range(start_col, start_col+3):\n",
    "            if board[i][j] == num:\n",
    "                return False\n",
    "\n",
    "    return True"
   ]
  },
  {
   "cell_type": "code",
   "execution_count": 15,
   "id": "cd881bfc-9823-4b49-aa30-f489c26a5251",
   "metadata": {},
   "outputs": [],
   "source": [
    "# Recursive function with backtracking\n",
    "def solve_board(board, iteration):\n",
    "    for i in range(9):\n",
    "        for j in range(9):\n",
    "\n",
    "            # Finds an empty cell\n",
    "            if board[i][j] == 0:\n",
    "\n",
    "                # Try all numbers\n",
    "                for num in range(1,10):\n",
    "\n",
    "                    # If move is valid, place number\n",
    "                    if is_valid(board, i, j, num):\n",
    "                        board[i][j] = num\n",
    "\n",
    "                        #print(f\"Iteration {iteration} Adding:\")\n",
    "                        #print_board(board)\n",
    "                        iteration += 1\n",
    "\n",
    "                        #  Recursively solve the rest of the board\n",
    "                        if solve_board(board,iteration):\n",
    "                            return True\n",
    "                            \n",
    "                        # Reset if the recursion doesn't lead to an answer\n",
    "                        board[i][j] = 0\n",
    "                        #print(f\"Iteration {iteration} Removing:\")\n",
    "                        #print_board(board)\n",
    "                        iteration += 1\n",
    "                return False\n",
    "    return True"
   ]
  },
  {
   "cell_type": "code",
   "execution_count": 16,
   "id": "31e93d7b-dbc4-46fa-a46f-eb5b8caf557e",
   "metadata": {},
   "outputs": [],
   "source": [
    "# Compares the computed solved board with the solution provided\n",
    "def check_answer(board, solution):\n",
    "    solved_board = ''.join(str(cell) for row in board for cell in row)\n",
    "    return solved_board == solution"
   ]
  },
  {
   "cell_type": "code",
   "execution_count": 17,
   "id": "39991e5e-861a-4b25-b069-fb89924da6e4",
   "metadata": {},
   "outputs": [
    {
     "name": "stdout",
     "output_type": "stream",
     "text": [
      "371986524846521379592473861463819752285347916719652438634195287128734695957268143\n",
      "Puzzle solved correctly!\n",
      "Time taken: 0.00 seconds\n"
     ]
    }
   ],
   "source": [
    "# Testing with df\n",
    "\n",
    "import datetime\n",
    "\n",
    "quiz = df['quizzes'][1]\n",
    "solution = df['solutions'][1]\n",
    "\n",
    "test = sudoku_board(quiz)\n",
    "\n",
    "start_time = datetime.datetime.now()\n",
    "if solve_board(test,1):\n",
    "    end_time = datetime.datetime.now()\n",
    "    time_taken = (end_time - start_time).total_seconds()\n",
    "    if check_answer(test, solution):\n",
    "        test2 = ''.join(str(cell) for row in test for cell in row)\n",
    "        print(test2)\n",
    "        print(\"Puzzle solved correctly!\")\n",
    "        print(f\"Time taken: {time_taken:.2f} seconds\")\n",
    "    else:\n",
    "        print(\"Incorrect!\")\n",
    "        print(f\"Time taken: {time_taken:.2f} seconds\")\n",
    "else:\n",
    "    print(\"No solution\")\n",
    "    print(f\"Time taken: {time_taken:.2f} seconds\")"
   ]
  },
  {
   "cell_type": "code",
   "execution_count": 18,
   "id": "4f294e1d-a05a-48ad-8f69-31f79d3236c1",
   "metadata": {},
   "outputs": [
    {
     "name": "stdout",
     "output_type": "stream",
     "text": [
      "812753649943682175675491283154237896369845721287169534521974368438526917796318452\n",
      "Time taken: 0.43 seconds\n"
     ]
    }
   ],
   "source": [
    "# Testing with the 'hardest' sudoku puzzle\n",
    "import time\n",
    "\n",
    "quiz2 = '800000000003600000070090200050007000000045700000100030001000068008500010090000400'\n",
    "\n",
    "board = sudoku_board(quiz2)\n",
    "\n",
    "start_time = datetime.datetime.now()\n",
    "if solve_board(board, 0):\n",
    "    end_time = datetime.datetime.now()\n",
    "    time_taken = (end_time-start_time).total_seconds()\n",
    "    answer = ''.join(str(cell) for row in board for cell in row)\n",
    "    print(answer)\n",
    "    print(f\"Time taken: {time_taken:.2f} seconds\")\n",
    "else:\n",
    "    print(\"No solution\")"
   ]
  },
  {
   "cell_type": "markdown",
   "id": "b8d541e1-3d36-4d2c-93c9-9141a067c62f",
   "metadata": {},
   "source": [
    "Based on https://andrewspuzzles.blogspot.com/2021/05/solution-to-worlds-hardest-sudoku.html we can see that the solution is correct"
   ]
  },
  {
   "cell_type": "code",
   "execution_count": 19,
   "id": "d4141bb3-2c34-4ea7-925d-c6d88b6025fb",
   "metadata": {},
   "outputs": [],
   "source": [
    "# Function to compare and solve Sudoku boards and measure average time\n",
    "def compare_sudoku(df):\n",
    "    total_quizzes = len(df)\n",
    "    correct_solved = 0\n",
    "    incorrect_solved = 0\n",
    "    not_solved = 0\n",
    "    total_time = 0\n",
    "    \n",
    "    for index, row in df.iterrows():\n",
    "        quiz = row['quizzes']\n",
    "        solution = row['solutions']\n",
    "        \n",
    "        # Save quiz and solution as another variable to avoid changes to original df\n",
    "        quiz_copy = sudoku_board(quiz)\n",
    "        solution_board = sudoku_board(solution)\n",
    "        \n",
    "        # Start timing\n",
    "        start_time = time.time()\n",
    "        \n",
    "        # Solve the quiz\n",
    "        iteration = 1\n",
    "        if solve_board(quiz_copy, iteration):\n",
    "            # Stop timing\n",
    "            end_time = time.time()\n",
    "            \n",
    "            # Calculate time taken\n",
    "            elapsed_time = end_time - start_time\n",
    "            total_time += elapsed_time\n",
    "\n",
    "            # Compare solved board with provided solution\n",
    "            if quiz_copy == solution_board:\n",
    "                correct_solved += 1\n",
    "            else:\n",
    "                incorrect_solved += 1\n",
    "            \n",
    "            #print(f\"Entry {index}:\")\n",
    "            '''\n",
    "            print(\"Solved Board:\")\n",
    "            for row in quiz_copy:\n",
    "                print(row)\n",
    "\n",
    "            print(\"Provided Solution:\")\n",
    "            for row in solution_board:\n",
    "                print(row)\n",
    "            '''\n",
    "        else:\n",
    "            not_solved += 1\n",
    "            #print(f\"Entry {index}: Could not be solved.\")\n",
    "    \n",
    "    # Calculate the average time\n",
    "    if total_quizzes > 0:\n",
    "        average_time = total_time / total_quizzes\n",
    "    else:\n",
    "        average_time = 0\n",
    "\n",
    "    # Print the results\n",
    "    print(f\"Total quizzes: {total_quizzes}\")\n",
    "    print(f\"Correctly solved: {correct_solved}\")\n",
    "    print(f\"Incorrectly solved: {incorrect_solved}\")\n",
    "    print(f\"Could not be solved: {not_solved}\")\n",
    "    print(f\"Total time per quiz: {total_time:.4f} seconds\")\n",
    "    print(f\"Average time per quiz: {average_time:.4f} seconds\")\n"
   ]
  },
  {
   "cell_type": "code",
   "execution_count": 20,
   "id": "a7691ea3-5986-4e8a-8ec0-2d32bdc16af8",
   "metadata": {},
   "outputs": [
    {
     "name": "stdout",
     "output_type": "stream",
     "text": [
      "Total quizzes: 2000\n",
      "Correctly solved: 2000\n",
      "Incorrectly solved: 0\n",
      "Could not be solved: 0\n",
      "Total time per quiz: 15.5826 seconds\n",
      "Average time per quiz: 0.0078 seconds\n"
     ]
    }
   ],
   "source": [
    "# Call the comparison function\n",
    "compare_sudoku(df.head(2000))\n"
   ]
  },
  {
   "cell_type": "code",
   "execution_count": 30,
   "id": "280b7deb-a55d-45e8-871c-68fa25f1a955",
   "metadata": {},
   "outputs": [
    {
     "data": {
      "text/plain": [
       "True"
      ]
     },
     "execution_count": 30,
     "metadata": {},
     "output_type": "execute_result"
    }
   ],
   "source": []
  },
  {
   "cell_type": "code",
   "execution_count": null,
   "id": "da2379b0-63f1-4366-8169-5fc980bab60b",
   "metadata": {},
   "outputs": [],
   "source": []
  }
 ],
 "metadata": {
  "kernelspec": {
   "display_name": "Python 3 (ipykernel)",
   "language": "python",
   "name": "python3"
  },
  "language_info": {
   "codemirror_mode": {
    "name": "ipython",
    "version": 3
   },
   "file_extension": ".py",
   "mimetype": "text/x-python",
   "name": "python",
   "nbconvert_exporter": "python",
   "pygments_lexer": "ipython3",
   "version": "3.11.5"
  }
 },
 "nbformat": 4,
 "nbformat_minor": 5
}
